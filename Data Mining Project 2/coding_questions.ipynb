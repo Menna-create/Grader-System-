{
  "cells": [
    {
      "cell_type": "markdown",
      "metadata": {
        "id": "a88UQCrODbXv"
      },
      "source": [
        "## Question 1:\n",
        "Write a function `fibonacci` that takes an integer `n` and returns the first `n` numbers in the Fibonacci sequence."
      ]
    },
    {
      "cell_type": "code",
      "execution_count": null,
      "metadata": {
        "id": "LaeUxzgTDbX4"
      },
      "outputs": [],
      "source": [
        "def fibonacci(n):\n",
        "    sequence = [0, 1]\n",
        "    while len(sequence) < n:\n",
        "        sequence.append(sequence[-1] + sequence[-2])\n",
        "    return sequence[:n]\n",
        "\n",
        "# Example usage:\n",
        "print(fibonacci(10))"
      ]
    },
    {
      "cell_type": "markdown",
      "metadata": {
        "id": "Md1JTDudDbX5"
      },
      "source": [
        "## Question 2:\n",
        "Write a function `is_prime` that takes an integer `num` and returns `True` if the number is prime and `False` otherwise."
      ]
    },
    {
      "cell_type": "code",
      "execution_count": null,
      "metadata": {
        "id": "0Bu2LcY7DbX5"
      },
      "outputs": [],
      "source": [
        "def is_prime(num):\n",
        "    if num <= 1:\n",
        "        return False\n",
        "    for i in range(2, int(num**0.5) + 1):\n",
        "        if num % i == 0:\n",
        "            return False\n",
        "    return True\n",
        "\n",
        "# Example usage:\n",
        "print(is_prime(11))"
      ]
    },
    {
      "cell_type": "markdown",
      "metadata": {
        "id": "LOweTpEsDbX5"
      },
      "source": [
        "## Question 3:\n",
        "Write a function `reverse_string` that takes a string `s` and returns the string reversed."
      ]
    },
    {
      "cell_type": "code",
      "execution_count": null,
      "metadata": {
        "id": "yaZkjWfeDbX5"
      },
      "outputs": [],
      "source": [
        "def reverse_string(s):\n",
        "    return s[::-1]\n",
        "\n",
        "# Example usage:\n",
        "print(reverse_string(\"hello\"))"
      ]
    },
    {
      "cell_type": "markdown",
      "metadata": {
        "id": "DPJhqRDDDbX5"
      },
      "source": [
        "## Question 4:\n",
        "Write a function `factorial` that takes an integer `n` and returns the factorial of `n`."
      ]
    },
    {
      "cell_type": "code",
      "execution_count": null,
      "metadata": {
        "id": "hrEtmLQxDbX5"
      },
      "outputs": [],
      "source": [
        "def factorial(n):\n",
        "    if n == 0:\n",
        "        return 1\n",
        "    else:\n",
        "        return n * factorial(n - 1)\n",
        "\n",
        "# Example usage:\n",
        "print(factorial(5))"
      ]
    },
    {
      "cell_type": "markdown",
      "metadata": {
        "id": "_1uuXgOlDbX5"
      },
      "source": [
        "## Question 5:\n",
        "Write a function `find_max` that takes a list of integers and returns the maximum value in the list."
      ]
    },
    {
      "cell_type": "code",
      "execution_count": null,
      "metadata": {
        "id": "gSZkeya_DbX5"
      },
      "outputs": [],
      "source": [
        "def find_max(lst):\n",
        "    if not lst:\n",
        "        return None\n",
        "    max_val = lst[0]\n",
        "    for num in lst:\n",
        "        if num > max_val:\n",
        "            max_val = num\n",
        "    return max_val\n",
        "\n",
        "# Example usage:\n",
        "print(find_max([1, 2, 3, 4, 5]))"
      ]
    },
    {
      "cell_type": "markdown",
      "metadata": {
        "id": "tadyEcPEGBJc"
      },
      "source": [
        "## Question 6:\n",
        "Write a function `find_max` that takes a list of integers and returns the maximum value in the list."
      ]
    },
    {
      "cell_type": "code",
      "source": [
        "def fibonacci(n):\n",
        "    a, b = 0, 1\n",
        "    for _ in range(n):\n",
        "        a, b = b, a + b\n",
        "    return a\n",
        "\n",
        "print(fibonacci(10))\n"
      ],
      "metadata": {
        "id": "m48boeVEFL66"
      },
      "execution_count": null,
      "outputs": []
    }
  ],
  "metadata": {
    "kernelspec": {
      "display_name": "Python 3",
      "language": "python",
      "name": "python3"
    },
    "language_info": {
      "codemirror_mode": {
        "name": "ipython",
        "version": 3
      },
      "file_extension": ".py",
      "mimetype": "text/x-python",
      "name": "python",
      "nbconvert_exporter": "python",
      "pygments_lexer": "ipython3",
      "version": "3.7.3"
    },
    "colab": {
      "provenance": []
    }
  },
  "nbformat": 4,
  "nbformat_minor": 0
}